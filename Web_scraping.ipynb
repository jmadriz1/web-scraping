{
 "cells": [
  {
   "cell_type": "markdown",
   "metadata": {},
   "source": [
    "# Web Scraping for Health and Profit\n",
    "\n",
    "In this assignment, you will play the role of an analyst for a healthcare investment company. Your firm believes there to be valuable investment opportunities in startups based in locations for which there is a plethora of mature health care companies and a high density of hospitals. To this end, the company has asked you to conduct an analysis of the following: \n",
    "\n",
    "- Identify cities with the largest number of healthcare companies in the S&P 500.\n",
    "- Identify the healthcare companies with the highest and lowest stock value.\n",
    "\n",
    "In order to complete the above tasks, your manager has asked you to scrape **Wikipedia's page** on the list of S&P 500 Companies and filter for only health care companies. She has also asked you to scrape **Business Insider’s page** on stocks to retrieve stock prices. Ultimately you will create two DataFrames - the first from the Wikipedia data and the second from Business Insider data - and will merge them together to complete your analysis."
   ]
  },
  {
   "cell_type": "code",
   "execution_count": 1,
   "metadata": {},
   "outputs": [],
   "source": [
    "import pandas as pd\n",
    "import requests\n",
    "from bs4 import BeautifulSoup"
   ]
  },
  {
   "cell_type": "markdown",
   "metadata": {},
   "source": [
    "## Part 1: Scraping Data from Wikipedia "
   ]
  },
  {
   "cell_type": "markdown",
   "metadata": {},
   "source": [
    "### Scraping S&P Companies Across All Industries \n",
    "\n",
    "First, let's scrape all of the companies on [Wikipedia's page](https://en.wikipedia.org/wiki/List_of_S%26P_500_companies) of the list of S&P 500 Companies. For this assignment, we will only be using the first value in the list of dataframes that we scrape. Follow the steps below. Follow the steps below:\n",
    "- Use `.read_html()` to scrape the above Wikipedia page and store it into a variable called `scrape_result`\n",
    "- Extract only the first table from the scraped list and store into a variable called `df`\n",
    "- Preview the first five rows of `df`"
   ]
  },
  {
   "cell_type": "code",
   "execution_count": 2,
   "metadata": {},
   "outputs": [
    {
     "data": {
      "text/html": [
       "<div>\n",
       "<style scoped>\n",
       "    .dataframe tbody tr th:only-of-type {\n",
       "        vertical-align: middle;\n",
       "    }\n",
       "\n",
       "    .dataframe tbody tr th {\n",
       "        vertical-align: top;\n",
       "    }\n",
       "\n",
       "    .dataframe thead th {\n",
       "        text-align: right;\n",
       "    }\n",
       "</style>\n",
       "<table border=\"1\" class=\"dataframe\">\n",
       "  <thead>\n",
       "    <tr style=\"text-align: right;\">\n",
       "      <th></th>\n",
       "      <th>Symbol</th>\n",
       "      <th>Security</th>\n",
       "      <th>GICS Sector</th>\n",
       "      <th>GICS Sub-Industry</th>\n",
       "      <th>Headquarters Location</th>\n",
       "      <th>Date added</th>\n",
       "      <th>CIK</th>\n",
       "      <th>Founded</th>\n",
       "    </tr>\n",
       "  </thead>\n",
       "  <tbody>\n",
       "    <tr>\n",
       "      <th>0</th>\n",
       "      <td>MMM</td>\n",
       "      <td>3M</td>\n",
       "      <td>Industrials</td>\n",
       "      <td>Industrial Conglomerates</td>\n",
       "      <td>Saint Paul, Minnesota</td>\n",
       "      <td>1976-08-09</td>\n",
       "      <td>66740</td>\n",
       "      <td>1902</td>\n",
       "    </tr>\n",
       "    <tr>\n",
       "      <th>1</th>\n",
       "      <td>AOS</td>\n",
       "      <td>A. O. Smith</td>\n",
       "      <td>Industrials</td>\n",
       "      <td>Building Products</td>\n",
       "      <td>Milwaukee, Wisconsin</td>\n",
       "      <td>2017-07-26</td>\n",
       "      <td>91142</td>\n",
       "      <td>1916</td>\n",
       "    </tr>\n",
       "    <tr>\n",
       "      <th>2</th>\n",
       "      <td>ABT</td>\n",
       "      <td>Abbott</td>\n",
       "      <td>Health Care</td>\n",
       "      <td>Health Care Equipment</td>\n",
       "      <td>North Chicago, Illinois</td>\n",
       "      <td>1964-03-31</td>\n",
       "      <td>1800</td>\n",
       "      <td>1888</td>\n",
       "    </tr>\n",
       "    <tr>\n",
       "      <th>3</th>\n",
       "      <td>ABBV</td>\n",
       "      <td>AbbVie</td>\n",
       "      <td>Health Care</td>\n",
       "      <td>Pharmaceuticals</td>\n",
       "      <td>North Chicago, Illinois</td>\n",
       "      <td>2012-12-31</td>\n",
       "      <td>1551152</td>\n",
       "      <td>2013 (1888)</td>\n",
       "    </tr>\n",
       "    <tr>\n",
       "      <th>4</th>\n",
       "      <td>ACN</td>\n",
       "      <td>Accenture</td>\n",
       "      <td>Information Technology</td>\n",
       "      <td>IT Consulting &amp; Other Services</td>\n",
       "      <td>Dublin, Ireland</td>\n",
       "      <td>2011-07-06</td>\n",
       "      <td>1467373</td>\n",
       "      <td>1989</td>\n",
       "    </tr>\n",
       "  </tbody>\n",
       "</table>\n",
       "</div>"
      ],
      "text/plain": [
       "  Symbol     Security             GICS Sector               GICS Sub-Industry  \\\n",
       "0    MMM           3M             Industrials        Industrial Conglomerates   \n",
       "1    AOS  A. O. Smith             Industrials               Building Products   \n",
       "2    ABT       Abbott             Health Care           Health Care Equipment   \n",
       "3   ABBV       AbbVie             Health Care                 Pharmaceuticals   \n",
       "4    ACN    Accenture  Information Technology  IT Consulting & Other Services   \n",
       "\n",
       "     Headquarters Location  Date added      CIK      Founded  \n",
       "0    Saint Paul, Minnesota  1976-08-09    66740         1902  \n",
       "1     Milwaukee, Wisconsin  2017-07-26    91142         1916  \n",
       "2  North Chicago, Illinois  1964-03-31     1800         1888  \n",
       "3  North Chicago, Illinois  2012-12-31  1551152  2013 (1888)  \n",
       "4          Dublin, Ireland  2011-07-06  1467373         1989  "
      ]
     },
     "execution_count": 2,
     "metadata": {},
     "output_type": "execute_result"
    }
   ],
   "source": [
    "#TODO: Scrape the Wikipedia page and store into a variable, `scrape_result`\n",
    "scrape_result = pd.read_html('https://en.wikipedia.org/wiki/List_of_S%26P_500_companies')\n",
    "#TODO: Extract first table from scraped list and store into a variable called `df`\n",
    "df = scrape_result[0]\n",
    "#TODO: Preview first five rows of `df`\n",
    "df.head()"
   ]
  },
  {
   "cell_type": "markdown",
   "metadata": {},
   "source": [
    "### Filtering For Only Health Care Companies \n",
    "\n",
    "\n",
    "Next, we'll filter for only health care companies; i.e. companies whose `GICS Sector` is Health Care. Follow the steps below:\n",
    "\n",
    "- Create a filter that contains companies with a `GICS Sector` of \"Health Care\", and save the results to a variable called `health_companies`\n",
    "- Preview the first five rows of `health_companies`"
   ]
  },
  {
   "cell_type": "code",
   "execution_count": 3,
   "metadata": {},
   "outputs": [
    {
     "data": {
      "text/html": [
       "<div>\n",
       "<style scoped>\n",
       "    .dataframe tbody tr th:only-of-type {\n",
       "        vertical-align: middle;\n",
       "    }\n",
       "\n",
       "    .dataframe tbody tr th {\n",
       "        vertical-align: top;\n",
       "    }\n",
       "\n",
       "    .dataframe thead th {\n",
       "        text-align: right;\n",
       "    }\n",
       "</style>\n",
       "<table border=\"1\" class=\"dataframe\">\n",
       "  <thead>\n",
       "    <tr style=\"text-align: right;\">\n",
       "      <th></th>\n",
       "      <th>Symbol</th>\n",
       "      <th>Security</th>\n",
       "      <th>GICS Sector</th>\n",
       "      <th>GICS Sub-Industry</th>\n",
       "      <th>Headquarters Location</th>\n",
       "      <th>Date added</th>\n",
       "      <th>CIK</th>\n",
       "      <th>Founded</th>\n",
       "    </tr>\n",
       "  </thead>\n",
       "  <tbody>\n",
       "    <tr>\n",
       "      <th>2</th>\n",
       "      <td>ABT</td>\n",
       "      <td>Abbott</td>\n",
       "      <td>Health Care</td>\n",
       "      <td>Health Care Equipment</td>\n",
       "      <td>North Chicago, Illinois</td>\n",
       "      <td>1964-03-31</td>\n",
       "      <td>1800</td>\n",
       "      <td>1888</td>\n",
       "    </tr>\n",
       "    <tr>\n",
       "      <th>3</th>\n",
       "      <td>ABBV</td>\n",
       "      <td>AbbVie</td>\n",
       "      <td>Health Care</td>\n",
       "      <td>Pharmaceuticals</td>\n",
       "      <td>North Chicago, Illinois</td>\n",
       "      <td>2012-12-31</td>\n",
       "      <td>1551152</td>\n",
       "      <td>2013 (1888)</td>\n",
       "    </tr>\n",
       "    <tr>\n",
       "      <th>12</th>\n",
       "      <td>A</td>\n",
       "      <td>Agilent Technologies</td>\n",
       "      <td>Health Care</td>\n",
       "      <td>Health Care Equipment</td>\n",
       "      <td>Santa Clara, California</td>\n",
       "      <td>2000-06-05</td>\n",
       "      <td>1090872</td>\n",
       "      <td>1999</td>\n",
       "    </tr>\n",
       "    <tr>\n",
       "      <th>18</th>\n",
       "      <td>ALGN</td>\n",
       "      <td>Align Technology</td>\n",
       "      <td>Health Care</td>\n",
       "      <td>Health Care Supplies</td>\n",
       "      <td>Tempe, Arizona</td>\n",
       "      <td>2017-06-19</td>\n",
       "      <td>1097149</td>\n",
       "      <td>1997</td>\n",
       "    </tr>\n",
       "    <tr>\n",
       "      <th>36</th>\n",
       "      <td>ABC</td>\n",
       "      <td>AmerisourceBergen</td>\n",
       "      <td>Health Care</td>\n",
       "      <td>Health Care Distributors</td>\n",
       "      <td>Conshohocken, Pennsylvania</td>\n",
       "      <td>2001-08-30</td>\n",
       "      <td>1140859</td>\n",
       "      <td>1985</td>\n",
       "    </tr>\n",
       "  </tbody>\n",
       "</table>\n",
       "</div>"
      ],
      "text/plain": [
       "   Symbol              Security  GICS Sector         GICS Sub-Industry  \\\n",
       "2     ABT                Abbott  Health Care     Health Care Equipment   \n",
       "3    ABBV                AbbVie  Health Care           Pharmaceuticals   \n",
       "12      A  Agilent Technologies  Health Care     Health Care Equipment   \n",
       "18   ALGN      Align Technology  Health Care      Health Care Supplies   \n",
       "36    ABC     AmerisourceBergen  Health Care  Health Care Distributors   \n",
       "\n",
       "         Headquarters Location  Date added      CIK      Founded  \n",
       "2      North Chicago, Illinois  1964-03-31     1800         1888  \n",
       "3      North Chicago, Illinois  2012-12-31  1551152  2013 (1888)  \n",
       "12     Santa Clara, California  2000-06-05  1090872         1999  \n",
       "18              Tempe, Arizona  2017-06-19  1097149         1997  \n",
       "36  Conshohocken, Pennsylvania  2001-08-30  1140859         1985  "
      ]
     },
     "execution_count": 3,
     "metadata": {},
     "output_type": "execute_result"
    }
   ],
   "source": [
    "# TODO: Create a filter, `health_companies`, that contains companies with a `GICS Sector` of \"Health Care\n",
    "health_companies = df[df[\"GICS Sector\"]== \"Health Care\"] \n",
    "# TODO: Preview first five rows of `health_companies`\n",
    "health_companies.head()"
   ]
  },
  {
   "cell_type": "markdown",
   "metadata": {},
   "source": [
    "## Part 2: Scraping Business Insider for Stock Prices\n",
    "\n",
    "Now, we need to scrape the Business Insider website for the current stock prices of companies. This is more complex than the previous scraping task, as it will involve creating and executing a function. You have been provided with the majority of the code for the function but will need to complete it. \n",
    "\n",
    "This function will carry out three major processes: First, it will make a request for the web page on Business Insider for the specified stock symbol. This page will contain information about the current pricing of the stock that we will collect using BeautifulSoup. The next section of the code will entail transforming the html of the page into a soup, from which we will extract our data. We'll isolate the HTML class containing the price information, then scrape the current price, absolute change in price, and relative change in price from that section. Finally, the function will return a dictionary containing all of the scraped information and the ticker so that we have a consistent data structure for use in other places of our code.\n",
    "\n",
    "In order to complete this function, you'll need to add the code for finding and extracting the text for the four parts of the scrape, as well as adding the stored variables to the dictionary that will be returned from the function.\n",
    "\n",
    "  - Open your web console\n",
    "  - Isolate the section containing the stock pricing information by using a `.find()` for the price section. Store this into `price_section` for the following steps\n",
    "  - Within the price_section, `.find()` the HTML class for the current price and store this into the variable `current_price`.\n",
    "  - Within the price_section, `.find()` the HTML class for the absolute change and store this into the variable `absolute_change`.\n",
    "  - Within the price_section, `.find()` the HTML class for the relative change and store this into the variable `relative_change`.\n",
    "  - Add the `current_price`, `absolute_change`, and `relative_change` variables to the return dictionary for each of their respective keys.\n",
    "\n",
    "\n",
    "**Hints:**\n",
    "  - You'll need to `.strip()` the results on the text scrapes.\n",
    "  - Don't forget to use your Chrome Inspector! You'll definitely want to check out the inside of the class tag `price-section__row`.\n",
    "  - Remember: Isolate the section you want to get data out of, then pick the specific tags useful for extraction.\n",
    "  - Don't forget to return values from your function!!"
   ]
  },
  {
   "cell_type": "code",
   "execution_count": 4,
   "metadata": {},
   "outputs": [],
   "source": [
    "#TODO: Create a function that scrapes the business insider page and returns the price information of the requested stock\n",
    "def scrape_stock(symbol):\n",
    " \n",
    "    res = requests.get(f'https://markets.businessinsider.com/stocks/{symbol}-stock')\n",
    "    #res = requests.get(f'https://markets.businessinsider.com/stocks/aapl')\n",
    "   \n",
    "    html = res.text\n",
    "\n",
    "    soup = BeautifulSoup(html)\n",
    "\n",
    "    price_section = soup.find_all(class_=\"price-section__row\")\n",
    "    \n",
    "    raw_data = []\n",
    "    \n",
    "    for block in price_section:\n",
    "    \n",
    "        row = {\n",
    "          \n",
    "         \"Symbol\": (symbol),\n",
    "         \"Current_Price\": block.find(class_=\"price-section__current-value\").text.strip(),\n",
    "         \"Absolute_Change\": block.find(class_=\"price-section__absolute-value\").text.strip(),\n",
    "         \"Relative_Change\": block.find(class_=\"price-section__relative-value\").text.strip()\n",
    "        }   \n",
    "    return row"
   ]
  },
  {
   "cell_type": "markdown",
   "metadata": {},
   "source": [
    "Once you've completed your function, test it by passing \"AAPL\" as a test case. Your executed function should return something similar to the following: \n",
    "```js\n",
    "{\n",
    "    'Symbol': 'AAPL',\n",
    "    'Current_Price': '146.97',\n",
    "    'Absolute_Change': '+0.14',\n",
    "    'Relative_Change': '+0.10%'\n",
    "}\n",
    "\n",
    "```\n"
   ]
  },
  {
   "cell_type": "code",
   "execution_count": 5,
   "metadata": {},
   "outputs": [
    {
     "data": {
      "text/plain": [
       "{'Symbol': 'AAPL',\n",
       " 'Current_Price': '152.69',\n",
       " 'Absolute_Change': '+0.77',\n",
       " 'Relative_Change': '+0.51%'}"
      ]
     },
     "execution_count": 5,
     "metadata": {},
     "output_type": "execute_result"
    }
   ],
   "source": [
    "# TODO: Execute `scrape_stock` with the argument \"AAPL\"\n",
    "scrape_stock(\"AAPL\")"
   ]
  },
  {
   "cell_type": "markdown",
   "metadata": {},
   "source": [
    "Next, you will create a DataFrame that contains stock information for the companies in our `health_companies` dataframe. To do this, you will first create a list that contains all the `Symbol` column values from `health_companies`. You will then create an empty list called `results`, and create a `for` loop that iterates over the list of symbols and appends **X** to the `results` lists. You will need to use the `scrape_stock` function in your `for_loop`. \n",
    "\n",
    "Lastly, you will convert your `results` list into a DataFrame called `stock_price`, and you will preview the first five rows of this DataFrame.\n"
   ]
  },
  {
   "cell_type": "markdown",
   "metadata": {},
   "source": [
    "In order to complete this task, follow the steps below.\n",
    "\n",
    "- Create a `health_company_list` that contains all the `Symbol` column values in our `health_companies` data frame\n",
    "- Create an empty list called `results`\n",
    "- Create a `for` loop that iterate over `health_company_list`. In each iteration you must call the `scrape_stock()` function on the company symbol and append the return value to the `results` lists \n",
    "- Convert your `results` list into a DataFrame `stock_price`\n",
    "- Preview the first few rows of your DataFrame using .head()"
   ]
  },
  {
   "cell_type": "code",
   "execution_count": 6,
   "metadata": {},
   "outputs": [
    {
     "data": {
      "text/html": [
       "<div>\n",
       "<style scoped>\n",
       "    .dataframe tbody tr th:only-of-type {\n",
       "        vertical-align: middle;\n",
       "    }\n",
       "\n",
       "    .dataframe tbody tr th {\n",
       "        vertical-align: top;\n",
       "    }\n",
       "\n",
       "    .dataframe thead th {\n",
       "        text-align: right;\n",
       "    }\n",
       "</style>\n",
       "<table border=\"1\" class=\"dataframe\">\n",
       "  <thead>\n",
       "    <tr style=\"text-align: right;\">\n",
       "      <th></th>\n",
       "      <th>Symbol</th>\n",
       "      <th>Current_Price</th>\n",
       "      <th>Absolute_Change</th>\n",
       "      <th>Relative_Change</th>\n",
       "    </tr>\n",
       "  </thead>\n",
       "  <tbody>\n",
       "    <tr>\n",
       "      <th>0</th>\n",
       "      <td>ABT</td>\n",
       "      <td>108.07</td>\n",
       "      <td>-2.13</td>\n",
       "      <td>-1.93%</td>\n",
       "    </tr>\n",
       "    <tr>\n",
       "      <th>1</th>\n",
       "      <td>ABBV</td>\n",
       "      <td>149.07</td>\n",
       "      <td>+4.47</td>\n",
       "      <td>+3.09%</td>\n",
       "    </tr>\n",
       "    <tr>\n",
       "      <th>2</th>\n",
       "      <td>A</td>\n",
       "      <td>153.04</td>\n",
       "      <td>-1.36</td>\n",
       "      <td>-0.88%</td>\n",
       "    </tr>\n",
       "    <tr>\n",
       "      <th>3</th>\n",
       "      <td>ALGN</td>\n",
       "      <td>328.08</td>\n",
       "      <td>-6.75</td>\n",
       "      <td>-2.02%</td>\n",
       "    </tr>\n",
       "    <tr>\n",
       "      <th>4</th>\n",
       "      <td>ABC</td>\n",
       "      <td>155.72</td>\n",
       "      <td>-2.17</td>\n",
       "      <td>-1.37%</td>\n",
       "    </tr>\n",
       "  </tbody>\n",
       "</table>\n",
       "</div>"
      ],
      "text/plain": [
       "  Symbol Current_Price Absolute_Change Relative_Change\n",
       "0    ABT        108.07           -2.13          -1.93%\n",
       "1   ABBV        149.07           +4.47          +3.09%\n",
       "2      A        153.04           -1.36          -0.88%\n",
       "3   ALGN        328.08           -6.75          -2.02%\n",
       "4    ABC        155.72           -2.17          -1.37%"
      ]
     },
     "execution_count": 6,
     "metadata": {},
     "output_type": "execute_result"
    }
   ],
   "source": [
    "# TODO: Create `health_company_list` that contains `Symbol` column values from `health_companies` \n",
    "health_company_list = health_companies['Symbol']      #.tolist()\n",
    "# TODO:  Create an empty list called `results` \n",
    "results = []\n",
    "# TODO: Iterate over `health_company_list`\n",
    "for symbol in health_company_list:\n",
    "    # TODO: append each scraped stock price to the `results` list\n",
    "    scraped_result = scrape_stock(symbol)\n",
    "    results.append(scraped_result)\n",
    "# TODO: Convert `results` to a DataFrame called `stock_price`\n",
    "stock_price = pd.DataFrame(results)\n",
    "# TODO: Preview first five rows of `stock_price`\n",
    "stock_price.head()"
   ]
  },
  {
   "cell_type": "markdown",
   "metadata": {},
   "source": [
    "## Part 3: Combining DataFrames\n",
    "\n",
    "Next, you wlll join the `stock_price` DataFrame into the `health_companies` DataFrame. Follow the steps below.\n",
    "- Use `.join()` to join `stock_price` and `health_companies` using `Symbol` as the join column and save the result into a variable called `full_data`\n",
    "- Preview the first five rows of `full_data` to ensure that the merge was successful\n"
   ]
  },
  {
   "cell_type": "code",
   "execution_count": 7,
   "metadata": {},
   "outputs": [
    {
     "data": {
      "text/html": [
       "<div>\n",
       "<style scoped>\n",
       "    .dataframe tbody tr th:only-of-type {\n",
       "        vertical-align: middle;\n",
       "    }\n",
       "\n",
       "    .dataframe tbody tr th {\n",
       "        vertical-align: top;\n",
       "    }\n",
       "\n",
       "    .dataframe thead th {\n",
       "        text-align: right;\n",
       "    }\n",
       "</style>\n",
       "<table border=\"1\" class=\"dataframe\">\n",
       "  <thead>\n",
       "    <tr style=\"text-align: right;\">\n",
       "      <th></th>\n",
       "      <th>Symbol</th>\n",
       "      <th>Current_Price</th>\n",
       "      <th>Absolute_Change</th>\n",
       "      <th>Relative_Change</th>\n",
       "      <th>Security</th>\n",
       "      <th>GICS Sector</th>\n",
       "      <th>GICS Sub-Industry</th>\n",
       "      <th>Headquarters Location</th>\n",
       "      <th>Date added</th>\n",
       "      <th>CIK</th>\n",
       "      <th>Founded</th>\n",
       "    </tr>\n",
       "  </thead>\n",
       "  <tbody>\n",
       "    <tr>\n",
       "      <th>0</th>\n",
       "      <td>ABT</td>\n",
       "      <td>108.07</td>\n",
       "      <td>-2.13</td>\n",
       "      <td>-1.93%</td>\n",
       "      <td>Abbott</td>\n",
       "      <td>Health Care</td>\n",
       "      <td>Health Care Equipment</td>\n",
       "      <td>North Chicago, Illinois</td>\n",
       "      <td>1964-03-31</td>\n",
       "      <td>1800</td>\n",
       "      <td>1888</td>\n",
       "    </tr>\n",
       "    <tr>\n",
       "      <th>1</th>\n",
       "      <td>ABBV</td>\n",
       "      <td>149.07</td>\n",
       "      <td>+4.47</td>\n",
       "      <td>+3.09%</td>\n",
       "      <td>AbbVie</td>\n",
       "      <td>Health Care</td>\n",
       "      <td>Pharmaceuticals</td>\n",
       "      <td>North Chicago, Illinois</td>\n",
       "      <td>2012-12-31</td>\n",
       "      <td>1551152</td>\n",
       "      <td>2013 (1888)</td>\n",
       "    </tr>\n",
       "    <tr>\n",
       "      <th>2</th>\n",
       "      <td>A</td>\n",
       "      <td>153.04</td>\n",
       "      <td>-1.36</td>\n",
       "      <td>-0.88%</td>\n",
       "      <td>Agilent Technologies</td>\n",
       "      <td>Health Care</td>\n",
       "      <td>Health Care Equipment</td>\n",
       "      <td>Santa Clara, California</td>\n",
       "      <td>2000-06-05</td>\n",
       "      <td>1090872</td>\n",
       "      <td>1999</td>\n",
       "    </tr>\n",
       "    <tr>\n",
       "      <th>3</th>\n",
       "      <td>ALGN</td>\n",
       "      <td>328.08</td>\n",
       "      <td>-6.75</td>\n",
       "      <td>-2.02%</td>\n",
       "      <td>Align Technology</td>\n",
       "      <td>Health Care</td>\n",
       "      <td>Health Care Supplies</td>\n",
       "      <td>Tempe, Arizona</td>\n",
       "      <td>2017-06-19</td>\n",
       "      <td>1097149</td>\n",
       "      <td>1997</td>\n",
       "    </tr>\n",
       "    <tr>\n",
       "      <th>4</th>\n",
       "      <td>ABC</td>\n",
       "      <td>155.72</td>\n",
       "      <td>-2.17</td>\n",
       "      <td>-1.37%</td>\n",
       "      <td>AmerisourceBergen</td>\n",
       "      <td>Health Care</td>\n",
       "      <td>Health Care Distributors</td>\n",
       "      <td>Conshohocken, Pennsylvania</td>\n",
       "      <td>2001-08-30</td>\n",
       "      <td>1140859</td>\n",
       "      <td>1985</td>\n",
       "    </tr>\n",
       "  </tbody>\n",
       "</table>\n",
       "</div>"
      ],
      "text/plain": [
       "  Symbol Current_Price Absolute_Change Relative_Change              Security  \\\n",
       "0    ABT        108.07           -2.13          -1.93%                Abbott   \n",
       "1   ABBV        149.07           +4.47          +3.09%                AbbVie   \n",
       "2      A        153.04           -1.36          -0.88%  Agilent Technologies   \n",
       "3   ALGN        328.08           -6.75          -2.02%      Align Technology   \n",
       "4    ABC        155.72           -2.17          -1.37%     AmerisourceBergen   \n",
       "\n",
       "   GICS Sector         GICS Sub-Industry       Headquarters Location  \\\n",
       "0  Health Care     Health Care Equipment     North Chicago, Illinois   \n",
       "1  Health Care           Pharmaceuticals     North Chicago, Illinois   \n",
       "2  Health Care     Health Care Equipment     Santa Clara, California   \n",
       "3  Health Care      Health Care Supplies              Tempe, Arizona   \n",
       "4  Health Care  Health Care Distributors  Conshohocken, Pennsylvania   \n",
       "\n",
       "   Date added      CIK      Founded  \n",
       "0  1964-03-31     1800         1888  \n",
       "1  2012-12-31  1551152  2013 (1888)  \n",
       "2  2000-06-05  1090872         1999  \n",
       "3  2017-06-19  1097149         1997  \n",
       "4  2001-08-30  1140859         1985  "
      ]
     },
     "execution_count": 7,
     "metadata": {},
     "output_type": "execute_result"
    }
   ],
   "source": [
    "# TODO: Merge `stock_price` and `health_companies` on `Symbol` and save as a variable titled `full_data`\n",
    "#full_data = pd.merge(stock_price,health_companies,on='Symbol')\n",
    "full_data = stock_price.join(health_companies.set_index('Symbol'),on = 'Symbol')\n",
    "# TODO: Preview first five elements of `full_data`\n",
    "full_data.head()"
   ]
  },
  {
   "cell_type": "markdown",
   "metadata": {},
   "source": [
    "## Part 4: Identifying Highest Stock Prices\n",
    "\n",
    "In this part, you will identify the companies that command the highest and lowest stock prices. In order to this, follow the steps below:\n",
    "- Clean the data in `Current_Price` column to remove any commas and then convert the data to a float. \n",
    "- Sort `full_data` by current stock price in ascending order \n",
    "- Use `tail` to identify the lowest and highest prices, respectively\n",
    "\n",
    "\n",
    "**Hints**: \n",
    "- Use `.str.replace()` on `Current_Price` column to remove commas \n",
    "- Use `.as_type()`to convert string values to float.\n"
   ]
  },
  {
   "cell_type": "code",
   "execution_count": 8,
   "metadata": {},
   "outputs": [],
   "source": [
    "# TODO: Update `full_data` by removing commas from `Current Price` values\n",
    "full_data['Current_Price'] = full_data['Current_Price'].str.replace(\",\",\"\").astype(float)\n",
    "# TODO: Update `full_data` by converting all `Current Price` values to strings \n",
    "full_data['Current_Price'] = full_data['Current_Price'].astype(str)"
   ]
  },
  {
   "cell_type": "code",
   "execution_count": 9,
   "metadata": {},
   "outputs": [
    {
     "data": {
      "text/html": [
       "<div>\n",
       "<style scoped>\n",
       "    .dataframe tbody tr th:only-of-type {\n",
       "        vertical-align: middle;\n",
       "    }\n",
       "\n",
       "    .dataframe tbody tr th {\n",
       "        vertical-align: top;\n",
       "    }\n",
       "\n",
       "    .dataframe thead th {\n",
       "        text-align: right;\n",
       "    }\n",
       "</style>\n",
       "<table border=\"1\" class=\"dataframe\">\n",
       "  <thead>\n",
       "    <tr style=\"text-align: right;\">\n",
       "      <th></th>\n",
       "      <th>Symbol</th>\n",
       "      <th>Current_Price</th>\n",
       "      <th>Absolute_Change</th>\n",
       "      <th>Relative_Change</th>\n",
       "      <th>Security</th>\n",
       "      <th>GICS Sector</th>\n",
       "      <th>GICS Sub-Industry</th>\n",
       "      <th>Headquarters Location</th>\n",
       "      <th>Date added</th>\n",
       "      <th>CIK</th>\n",
       "      <th>Founded</th>\n",
       "    </tr>\n",
       "  </thead>\n",
       "  <tbody>\n",
       "    <tr>\n",
       "      <th>19</th>\n",
       "      <td>CVS</td>\n",
       "      <td>90.09</td>\n",
       "      <td>+1.13</td>\n",
       "      <td>+1.27%</td>\n",
       "      <td>CVS Health</td>\n",
       "      <td>Health Care</td>\n",
       "      <td>Health Care Services</td>\n",
       "      <td>Woonsocket, Rhode Island</td>\n",
       "      <td>1957-03-04</td>\n",
       "      <td>64803</td>\n",
       "      <td>1996</td>\n",
       "    </tr>\n",
       "    <tr>\n",
       "      <th>30</th>\n",
       "      <td>HSIC</td>\n",
       "      <td>86.08</td>\n",
       "      <td>-0.66</td>\n",
       "      <td>-0.76%</td>\n",
       "      <td>Henry Schein</td>\n",
       "      <td>Health Care</td>\n",
       "      <td>Health Care Distributors</td>\n",
       "      <td>Melville, New York</td>\n",
       "      <td>2015-03-17</td>\n",
       "      <td>1000228</td>\n",
       "      <td>1932</td>\n",
       "    </tr>\n",
       "    <tr>\n",
       "      <th>28</th>\n",
       "      <td>GILD</td>\n",
       "      <td>85.71</td>\n",
       "      <td>+0.04</td>\n",
       "      <td>+0.05%</td>\n",
       "      <td>Gilead Sciences</td>\n",
       "      <td>Health Care</td>\n",
       "      <td>Biotechnology</td>\n",
       "      <td>Foster City, California</td>\n",
       "      <td>2004-07-01</td>\n",
       "      <td>882095</td>\n",
       "      <td>1987</td>\n",
       "    </tr>\n",
       "    <tr>\n",
       "      <th>41</th>\n",
       "      <td>MDT</td>\n",
       "      <td>84.51</td>\n",
       "      <td>-1.67</td>\n",
       "      <td>-1.94%</td>\n",
       "      <td>Medtronic</td>\n",
       "      <td>Health Care</td>\n",
       "      <td>Health Care Equipment</td>\n",
       "      <td>Dublin, Ireland</td>\n",
       "      <td>1986-10-31</td>\n",
       "      <td>1613103</td>\n",
       "      <td>1949</td>\n",
       "    </tr>\n",
       "    <tr>\n",
       "      <th>31</th>\n",
       "      <td>HOLX</td>\n",
       "      <td>83.5</td>\n",
       "      <td>-2.11</td>\n",
       "      <td>-2.46%</td>\n",
       "      <td>Hologic</td>\n",
       "      <td>Health Care</td>\n",
       "      <td>Health Care Equipment</td>\n",
       "      <td>Marlborough, Massachusetts</td>\n",
       "      <td>2016-03-30</td>\n",
       "      <td>859737</td>\n",
       "      <td>1985</td>\n",
       "    </tr>\n",
       "  </tbody>\n",
       "</table>\n",
       "</div>"
      ],
      "text/plain": [
       "   Symbol Current_Price Absolute_Change Relative_Change         Security  \\\n",
       "19    CVS         90.09           +1.13          +1.27%       CVS Health   \n",
       "30   HSIC         86.08           -0.66          -0.76%     Henry Schein   \n",
       "28   GILD         85.71           +0.04          +0.05%  Gilead Sciences   \n",
       "41    MDT         84.51           -1.67          -1.94%        Medtronic   \n",
       "31   HOLX          83.5           -2.11          -2.46%          Hologic   \n",
       "\n",
       "    GICS Sector         GICS Sub-Industry       Headquarters Location  \\\n",
       "19  Health Care      Health Care Services    Woonsocket, Rhode Island   \n",
       "30  Health Care  Health Care Distributors          Melville, New York   \n",
       "28  Health Care             Biotechnology     Foster City, California   \n",
       "41  Health Care     Health Care Equipment             Dublin, Ireland   \n",
       "31  Health Care     Health Care Equipment  Marlborough, Massachusetts   \n",
       "\n",
       "    Date added      CIK Founded  \n",
       "19  1957-03-04    64803    1996  \n",
       "30  2015-03-17  1000228    1932  \n",
       "28  2004-07-01   882095    1987  \n",
       "41  1986-10-31  1613103    1949  \n",
       "31  2016-03-30   859737    1985  "
      ]
     },
     "execution_count": 9,
     "metadata": {},
     "output_type": "execute_result"
    }
   ],
   "source": [
    "# TODO: Sort `full_data` by current stock price in ascending order and save to a variable called `sorted_data`\n",
    "sorted_data = full_data.sort_values(\"Current_Price\", ascending=False)\n",
    "# TODO: Display the first five records in the sorted dataset\n",
    "sorted_data.head()"
   ]
  },
  {
   "cell_type": "code",
   "execution_count": 10,
   "metadata": {
    "scrolled": true
   },
   "outputs": [
    {
     "data": {
      "text/html": [
       "<div>\n",
       "<style scoped>\n",
       "    .dataframe tbody tr th:only-of-type {\n",
       "        vertical-align: middle;\n",
       "    }\n",
       "\n",
       "    .dataframe tbody tr th {\n",
       "        vertical-align: top;\n",
       "    }\n",
       "\n",
       "    .dataframe thead th {\n",
       "        text-align: right;\n",
       "    }\n",
       "</style>\n",
       "<table border=\"1\" class=\"dataframe\">\n",
       "  <thead>\n",
       "    <tr style=\"text-align: right;\">\n",
       "      <th></th>\n",
       "      <th>Symbol</th>\n",
       "      <th>Current_Price</th>\n",
       "      <th>Absolute_Change</th>\n",
       "      <th>Relative_Change</th>\n",
       "      <th>Security</th>\n",
       "      <th>GICS Sector</th>\n",
       "      <th>GICS Sub-Industry</th>\n",
       "      <th>Headquarters Location</th>\n",
       "      <th>Date added</th>\n",
       "      <th>CIK</th>\n",
       "      <th>Founded</th>\n",
       "    </tr>\n",
       "  </thead>\n",
       "  <tbody>\n",
       "    <tr>\n",
       "      <th>62</th>\n",
       "      <td>ZBH</td>\n",
       "      <td>128.29</td>\n",
       "      <td>-2.47</td>\n",
       "      <td>-1.89%</td>\n",
       "      <td>Zimmer Biomet</td>\n",
       "      <td>Health Care</td>\n",
       "      <td>Health Care Equipment</td>\n",
       "      <td>Warsaw, Indiana</td>\n",
       "      <td>2001-08-07</td>\n",
       "      <td>1136869</td>\n",
       "      <td>1927</td>\n",
       "    </tr>\n",
       "    <tr>\n",
       "      <th>59</th>\n",
       "      <td>VTRS</td>\n",
       "      <td>11.72</td>\n",
       "      <td>-0.20</td>\n",
       "      <td>-1.68%</td>\n",
       "      <td>Viatris</td>\n",
       "      <td>Health Care</td>\n",
       "      <td>Pharmaceuticals</td>\n",
       "      <td>Pittsburgh, Pennsylvania</td>\n",
       "      <td>2004-04-23</td>\n",
       "      <td>1792044</td>\n",
       "      <td>1961</td>\n",
       "    </tr>\n",
       "    <tr>\n",
       "      <th>0</th>\n",
       "      <td>ABT</td>\n",
       "      <td>108.07</td>\n",
       "      <td>-2.13</td>\n",
       "      <td>-1.93%</td>\n",
       "      <td>Abbott</td>\n",
       "      <td>Health Care</td>\n",
       "      <td>Health Care Equipment</td>\n",
       "      <td>North Chicago, Illinois</td>\n",
       "      <td>1964-03-31</td>\n",
       "      <td>1800</td>\n",
       "      <td>1888</td>\n",
       "    </tr>\n",
       "    <tr>\n",
       "      <th>23</th>\n",
       "      <td>DXCM</td>\n",
       "      <td>107.17</td>\n",
       "      <td>-2.67</td>\n",
       "      <td>-2.43%</td>\n",
       "      <td>Dexcom</td>\n",
       "      <td>Health Care</td>\n",
       "      <td>Health Care Equipment</td>\n",
       "      <td>San Diego, California</td>\n",
       "      <td>2020-05-12</td>\n",
       "      <td>1093557</td>\n",
       "      <td>1999</td>\n",
       "    </tr>\n",
       "    <tr>\n",
       "      <th>42</th>\n",
       "      <td>MRK</td>\n",
       "      <td>106.92</td>\n",
       "      <td>+0.27</td>\n",
       "      <td>+0.25%</td>\n",
       "      <td>Merck &amp; Co.</td>\n",
       "      <td>Health Care</td>\n",
       "      <td>Pharmaceuticals</td>\n",
       "      <td>Kenilworth, New Jersey</td>\n",
       "      <td>1957-03-04</td>\n",
       "      <td>310158</td>\n",
       "      <td>1891</td>\n",
       "    </tr>\n",
       "  </tbody>\n",
       "</table>\n",
       "</div>"
      ],
      "text/plain": [
       "   Symbol Current_Price Absolute_Change Relative_Change       Security  \\\n",
       "62    ZBH        128.29           -2.47          -1.89%  Zimmer Biomet   \n",
       "59   VTRS         11.72           -0.20          -1.68%        Viatris   \n",
       "0     ABT        108.07           -2.13          -1.93%         Abbott   \n",
       "23   DXCM        107.17           -2.67          -2.43%         Dexcom   \n",
       "42    MRK        106.92           +0.27          +0.25%    Merck & Co.   \n",
       "\n",
       "    GICS Sector      GICS Sub-Industry     Headquarters Location  Date added  \\\n",
       "62  Health Care  Health Care Equipment           Warsaw, Indiana  2001-08-07   \n",
       "59  Health Care        Pharmaceuticals  Pittsburgh, Pennsylvania  2004-04-23   \n",
       "0   Health Care  Health Care Equipment   North Chicago, Illinois  1964-03-31   \n",
       "23  Health Care  Health Care Equipment     San Diego, California  2020-05-12   \n",
       "42  Health Care        Pharmaceuticals    Kenilworth, New Jersey  1957-03-04   \n",
       "\n",
       "        CIK Founded  \n",
       "62  1136869    1927  \n",
       "59  1792044    1961  \n",
       "0      1800    1888  \n",
       "23  1093557    1999  \n",
       "42   310158    1891  "
      ]
     },
     "execution_count": 10,
     "metadata": {},
     "output_type": "execute_result"
    }
   ],
   "source": [
    "# TODO: Preview last five rows of `sorted data`\n",
    "sorted_data.tail()"
   ]
  },
  {
   "cell_type": "markdown",
   "metadata": {},
   "source": [
    "Using the results above, which company has the highest stock price? "
   ]
  },
  {
   "cell_type": "code",
   "execution_count": 11,
   "metadata": {},
   "outputs": [
    {
     "data": {
      "text/plain": [
       "19    CVS\n",
       "Name: Symbol, dtype: object"
      ]
     },
     "execution_count": 11,
     "metadata": {},
     "output_type": "execute_result"
    }
   ],
   "source": [
    "# TODO: Display the name of the top priced stock\n",
    "top_priced_stock = sorted_data[\"Symbol\"]\n",
    "top_priced_stock.head(1)"
   ]
  },
  {
   "cell_type": "markdown",
   "metadata": {},
   "source": [
    "In which cities are the top five companies by stock price located?"
   ]
  },
  {
   "cell_type": "code",
   "execution_count": 12,
   "metadata": {},
   "outputs": [
    {
     "data": {
      "text/plain": [
       "19      Woonsocket, Rhode Island\n",
       "30            Melville, New York\n",
       "28       Foster City, California\n",
       "41               Dublin, Ireland\n",
       "31    Marlborough, Massachusetts\n",
       "Name: Headquarters Location, dtype: object"
      ]
     },
     "execution_count": 12,
     "metadata": {},
     "output_type": "execute_result"
    }
   ],
   "source": [
    "# TODO: Display the name of the five cities with the highest priced stocks\n",
    "highest_priced_stocks = sorted_data['Headquarters Location']\n",
    "highest_priced_stocks.head()"
   ]
  },
  {
   "cell_type": "markdown",
   "metadata": {},
   "source": [
    "## Part 5: Health Care Company Clusters"
   ]
  },
  {
   "cell_type": "markdown",
   "metadata": {},
   "source": [
    "Next, we want to plot a geographic clustering of Health Care companies from our `full_data` DataFrame. \n",
    "\n",
    "Complete the following steps: \n",
    "- Use `.value_counts()` on the `Headquarters Location` column of `full_data`. Set this dataframe to a variable `health_company_locations`.\n",
    "- Filter `health_company_locations` for cities that have a count of more than one company. Set this to a variable `health_company_clusters`.\n",
    "- Create a bar chart that simply plots values of `health_company_clusters` using pandas' `.plot()` method.\n"
   ]
  },
  {
   "cell_type": "code",
   "execution_count": 13,
   "metadata": {},
   "outputs": [
    {
     "data": {
      "text/plain": [
       "San Diego, California         3\n",
       "Cambridge, Massachusetts      3\n",
       "North Chicago, Illinois       2\n",
       "Indianapolis, Indiana         2\n",
       "Marlborough, Massachusetts    2\n",
       "Name: Headquarters Location, dtype: int64"
      ]
     },
     "execution_count": 13,
     "metadata": {},
     "output_type": "execute_result"
    }
   ],
   "source": [
    "# TODO: Use `.value_counts()` on the `Headquarters Location` column of `full_data` and save as a variable `health_company_locations`\n",
    "health_company_locations = full_data['Headquarters Location'].value_counts()\n",
    "# TODO: preview your results using .head()\n",
    "health_company_locations.head()"
   ]
  },
  {
   "cell_type": "code",
   "execution_count": 14,
   "metadata": {},
   "outputs": [
    {
     "data": {
      "text/plain": [
       "San Diego, California         3\n",
       "Cambridge, Massachusetts      3\n",
       "North Chicago, Illinois       2\n",
       "Indianapolis, Indiana         2\n",
       "Marlborough, Massachusetts    2\n",
       "Name: Headquarters Location, dtype: int64"
      ]
     },
     "execution_count": 14,
     "metadata": {},
     "output_type": "execute_result"
    }
   ],
   "source": [
    "# TODO:  Filter `health_company_locations` for cities that have a count of more than one company and store as the variable `health_company_clusters`\n",
    "health_company_clusters = health_company_locations[full_data['Headquarters Location'].value_counts()>1]\n",
    "# TODO: Preview first five rows of `health_company_clusters`\n",
    "health_company_clusters.head()"
   ]
  },
  {
   "cell_type": "code",
   "execution_count": 15,
   "metadata": {},
   "outputs": [
    {
     "data": {
      "image/png": "[encoded data removed]",
      "text/plain": [
       "<Figure size 432x288 with 1 Axes>"
      ]
     },
     "metadata": {
      "needs_background": "light"
     },
     "output_type": "display_data"
    }
   ],
   "source": [
    "# TODO: Create a bar plot of `health_company_clusters`\n",
    "import matplotlib.pyplot as plt\n",
    "\n",
    "health_company_clusters.head(7).plot(kind='bar') \n",
    "\n",
    "plt.show()"
   ]
  },
  {
   "cell_type": "markdown",
   "metadata": {},
   "source": [
    "Which three cities have the highest concentration of health care companies?"
   ]
  },
  {
   "cell_type": "code",
   "execution_count": 16,
   "metadata": {},
   "outputs": [
    {
     "data": {
      "text/plain": [
       "San Diego, California       3\n",
       "Cambridge, Massachusetts    3\n",
       "North Chicago, Illinois     2\n",
       "Name: Headquarters Location, dtype: int64"
      ]
     },
     "execution_count": 16,
     "metadata": {},
     "output_type": "execute_result"
    }
   ],
   "source": [
    "# TODO: List the three cities with the highest concentration of health care companies\n",
    "health_company_clusters.head(3)                                   "
   ]
  }
 ],
 "metadata": {
  "interpreter": {
   "hash": "a8383eef294e6eb532b9a275f580f77018a4c5ddf6bd4ca154421d62e44b7362"
  },
  "kernelspec": {
   "display_name": "Python 3 (ipykernel)",
   "language": "python",
   "name": "python3"
  },
  "language_info": {
   "codemirror_mode": {
    "name": "ipython",
    "version": 3
   },
   "file_extension": ".py",
   "mimetype": "text/x-python",
   "name": "python",
   "nbconvert_exporter": "python",
   "pygments_lexer": "ipython3",
   "version": "3.9.12"
  }
 },
 "nbformat": 4,
 "nbformat_minor": 2
}
